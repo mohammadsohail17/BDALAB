{
 "cells": [
  {
   "cell_type": "code",
   "execution_count": 3,
   "metadata": {},
   "outputs": [
    {
     "name": "stdout",
     "output_type": "stream",
     "text": [
      "+----+------+-----+-----+---+\n",
      "| _c0|   _c1|  _c2|  _c3|_c4|\n",
      "+----+------+-----+-----+---+\n",
      "|N001|   BMW|black|night|yes|\n",
      "|N002|  Audi|black|night| no|\n",
      "|N003|NISSAN|black|night|yes|\n",
      "|N004|  VEGA|  red|  day|yes|\n",
      "|N005|   BMW| blue|  day| no|\n",
      "|N006|  Audi|black|  day|yes|\n",
      "|N007|  VEGA|  red|night| no|\n",
      "|N008|  Audi| blue|  day|yes|\n",
      "|N009|  VEGA|black|  day|yes|\n",
      "|N010|NISSAN| blue|  day| no|\n",
      "|N011|   BMW|black|night|yes|\n",
      "|N012|NISSAN|  red|  day| no|\n",
      "|N013|  VEGA|black|night|yes|\n",
      "|N014|   BMW|  red|  day| no|\n",
      "|N015|  Audi|black|  day|yes|\n",
      "|N016|  Audi| blue|night|yes|\n",
      "|N017|  Audi|  red|  day| no|\n",
      "|N018|NISSAN|black|  day|yes|\n",
      "|N019|   BMW| blue|  day|yes|\n",
      "|N020|   BMW|  red|night|yes|\n",
      "+----+------+-----+-----+---+\n",
      "\n"
     ]
    }
   ],
   "source": [
    "#naive bayes\n",
    "from pyspark.sql import SparkSession \n",
    "from pyspark.sql.functions import * \n",
    "from pyspark.ml import Pipeline \n",
    "from pyspark.ml.feature import VectorAssembler \n",
    "from pyspark.ml.feature import StringIndexer \n",
    "from pyspark.ml.classification import NaiveBayes \n",
    "from pyspark.ml.evaluation import MulticlassClassificationEvaluator\n",
    "# Read data from the vehicle_stolen_dataset.csv \n",
    "spark=SparkSession.builder.appName(\"bayesclass\").getOrCreate()\n",
    "\n",
    "data=spark.read.csv('vehicle_stolen_dataset.csv',inferSchema=True)\n",
    "data.show()"
   ]
  },
  {
   "cell_type": "code",
   "execution_count": 4,
   "metadata": {},
   "outputs": [
    {
     "data": {
      "text/plain": [
       "['_c0', '_c1', '_c2', '_c3', '_c4']"
      ]
     },
     "execution_count": 4,
     "metadata": {},
     "output_type": "execute_result"
    }
   ],
   "source": [
    "data.columns"
   ]
  },
  {
   "cell_type": "code",
   "execution_count": 5,
   "metadata": {},
   "outputs": [],
   "source": [
    "vehicle_df = data.select(col(\"_c0\").alias(\"number_plate\"),  col(\"_c1\").alias(\"brand\"),  \n",
    "col(\"_c2\").alias(\"color\"),  \n",
    "col(\"_c3\").alias(\"time\"),  \n",
    "col(\"_c4\").alias(\"stoled\"))"
   ]
  },
  {
   "cell_type": "code",
   "execution_count": 7,
   "metadata": {},
   "outputs": [
    {
     "name": "stdout",
     "output_type": "stream",
     "text": [
      "+------------+------+-----+-----+------+-----------+-----------+----------+-----+\n",
      "|number_plate|brand |color|time |stoled|brand_index|color_index|time_index|label|\n",
      "+------------+------+-----+-----+------+-----------+-----------+----------+-----+\n",
      "|N001        |BMW   |black|night|yes   |1.0        |0.0        |1.0       |0.0  |\n",
      "|N002        |Audi  |black|night|no    |0.0        |0.0        |1.0       |1.0  |\n",
      "|N003        |NISSAN|black|night|yes   |2.0        |0.0        |1.0       |0.0  |\n",
      "|N004        |VEGA  |red  |day  |yes   |3.0        |1.0        |0.0       |0.0  |\n",
      "|N005        |BMW   |blue |day  |no    |1.0        |2.0        |0.0       |1.0  |\n",
      "+------------+------+-----+-----+------+-----------+-----------+----------+-----+\n",
      "only showing top 5 rows\n",
      "\n"
     ]
    }
   ],
   "source": [
    "indexers = [\n",
    "StringIndexer(inputCol=\"brand\", outputCol = \"brand_index\"),  \n",
    "StringIndexer(inputCol=\"color\", outputCol = \"color_index\"),  StringIndexer(inputCol=\"time\", outputCol = \"time_index\"),  StringIndexer(inputCol=\"stoled\", outputCol = \"label\")]\n",
    "pipeline = Pipeline(stages=indexers) \n",
    "#Fitting a model to the input dataset. \n",
    "indexed_vehicle_df = pipeline.fit(vehicle_df).transform(vehicle_df) \n",
    "indexed_vehicle_df.show(5,False) "
   ]
  },
  {
   "cell_type": "code",
   "execution_count": 12,
   "metadata": {},
   "outputs": [
    {
     "name": "stdout",
     "output_type": "stream",
     "text": [
      "+------------+------+-----+-----+------+-----------+-----------+----------+-----+-------------+\n",
      "|number_plate|brand |color|time |stoled|brand_index|color_index|time_index|label|features     |\n",
      "+------------+------+-----+-----+------+-----------+-----------+----------+-----+-------------+\n",
      "|N001        |BMW   |black|night|yes   |1.0        |0.0        |1.0       |0.0  |[1.0,0.0,1.0]|\n",
      "|N002        |Audi  |black|night|no    |0.0        |0.0        |1.0       |1.0  |[0.0,0.0,1.0]|\n",
      "|N003        |NISSAN|black|night|yes   |2.0        |0.0        |1.0       |0.0  |[2.0,0.0,1.0]|\n",
      "|N004        |VEGA  |red  |day  |yes   |3.0        |1.0        |0.0       |0.0  |[3.0,1.0,0.0]|\n",
      "|N005        |BMW   |blue |day  |no    |1.0        |2.0        |0.0       |1.0  |[1.0,2.0,0.0]|\n",
      "+------------+------+-----+-----+------+-----------+-----------+----------+-----+-------------+\n",
      "only showing top 5 rows\n",
      "\n"
     ]
    }
   ],
   "source": [
    "vectorAssembler = VectorAssembler(inputCols = [\"brand_index\", \"color_index\", \"time_index\"],outputCol = \"features\") \n",
    "vindexed_vehicle_df = vectorAssembler.transform(indexed_vehicle_df) \n",
    "vindexed_vehicle_df.show(5, False)"
   ]
  },
  {
   "cell_type": "code",
   "execution_count": 10,
   "metadata": {},
   "outputs": [
    {
     "name": "stdout",
     "output_type": "stream",
     "text": [
      "+------------+------+-----+-----+------+-----------+-----------+----------+-----+\n",
      "|number_plate| brand|color| time|stoled|brand_index|color_index|time_index|label|\n",
      "+------------+------+-----+-----+------+-----------+-----------+----------+-----+\n",
      "|        N001|   BMW|black|night|   yes|        1.0|        0.0|       1.0|  0.0|\n",
      "|        N002|  Audi|black|night|    no|        0.0|        0.0|       1.0|  1.0|\n",
      "|        N003|NISSAN|black|night|   yes|        2.0|        0.0|       1.0|  0.0|\n",
      "+------------+------+-----+-----+------+-----------+-----------+----------+-----+\n",
      "only showing top 3 rows\n",
      "\n"
     ]
    }
   ],
   "source": [
    "indexed_vehicle_df.show(3)"
   ]
  },
  {
   "cell_type": "code",
   "execution_count": 13,
   "metadata": {},
   "outputs": [],
   "source": [
    "splits = vindexed_vehicle_df.randomSplit([0.6,0.4], 42) \n",
    "# optional value 42 is seed for sampling \n",
    "train_df = splits[0] \n",
    "test_df = splits[1]"
   ]
  },
  {
   "cell_type": "code",
   "execution_count": 15,
   "metadata": {},
   "outputs": [],
   "source": [
    "nb = NaiveBayes(modelType=\"multinomial\")"
   ]
  },
  {
   "cell_type": "code",
   "execution_count": 16,
   "metadata": {},
   "outputs": [],
   "source": [
    "nbmodel = nb.fit(train_df)"
   ]
  },
  {
   "cell_type": "code",
   "execution_count": 17,
   "metadata": {},
   "outputs": [
    {
     "name": "stdout",
     "output_type": "stream",
     "text": [
      "+------------+------+-----+-----+------+-----------+-----------+----------+-----+-------------+--------------------+--------------------+----------+\n",
      "|number_plate| brand|color| time|stoled|brand_index|color_index|time_index|label|     features|       rawPrediction|         probability|prediction|\n",
      "+------------+------+-----+-----+------+-----------+-----------+----------+-----+-------------+--------------------+--------------------+----------+\n",
      "|        N001|   BMW|black|night|   yes|        1.0|        0.0|       1.0|  0.0|[1.0,0.0,1.0]|[-2.8415815937267...|[0.70850202429149...|       0.0|\n",
      "|        N003|NISSAN|black|night|   yes|        2.0|        0.0|       1.0|  0.0|[2.0,0.0,1.0]|[-3.5347287742866...|[0.85868498527968...|       0.0|\n",
      "|        N005|   BMW| blue|  day|    no|        1.0|        2.0|       0.0|  1.0|[1.0,2.0,0.0]|[-3.2470467018348...|[0.80201649862511...|       0.0|\n",
      "|        N007|  VEGA|  red|night|    no|        3.0|        1.0|       1.0|  1.0|[3.0,1.0,1.0]|[-5.3264882435147...|[0.92678896750413...|       0.0|\n",
      "|        N009|  VEGA|black|  day|   yes|        3.0|        0.0|       0.0|  0.0|[3.0,0.0,0.0]|[-2.4361164856185...|[0.97330367074527...|       0.0|\n",
      "+------------+------+-----+-----+------+-----------+-----------+----------+-----+-------------+--------------------+--------------------+----------+\n",
      "only showing top 5 rows\n",
      "\n"
     ]
    }
   ],
   "source": [
    "predictions_df = nbmodel.transform(test_df)\n",
    "predictions_df.show(5, True)"
   ]
  },
  {
   "cell_type": "code",
   "execution_count": 19,
   "metadata": {},
   "outputs": [
    {
     "name": "stdout",
     "output_type": "stream",
     "text": [
      "Test accuracy = 0.5\n"
     ]
    }
   ],
   "source": [
    "evaluator = MulticlassClassificationEvaluator(labelCol=\"label\", predictionCol=\"prediction\", metricName=\"accuracy\") \n",
    "nbaccuracy = evaluator.evaluate(predictions_df) \n",
    "print(\"Test accuracy = \" + str(nbaccuracy))"
   ]
  }
 ],
 "metadata": {
  "kernelspec": {
   "display_name": "Python 3",
   "language": "python",
   "name": "python3"
  },
  "language_info": {
   "codemirror_mode": {
    "name": "ipython",
    "version": 3
   },
   "file_extension": ".py",
   "mimetype": "text/x-python",
   "name": "python",
   "nbconvert_exporter": "python",
   "pygments_lexer": "ipython3",
   "version": "3.10.7"
  }
 },
 "nbformat": 4,
 "nbformat_minor": 2
}
