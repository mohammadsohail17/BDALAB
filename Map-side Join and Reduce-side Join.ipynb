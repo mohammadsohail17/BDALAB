{
 "cells": [
  {
   "cell_type": "code",
   "execution_count": null,
   "metadata": {},
   "outputs": [],
   "source": [
    "from pyspark.sql import SparkSession\n",
    "from pyspark.sql.functions import broadcast\n",
    "spark=SparkSession.builder.appName(\"Map-side join\").getOrCreate()\n",
    "\n",
    "df1=spark.createDataFrame([(1,\"a\"),(2,\"b\"),(3,\"c\")],[\"id\",\"value\"])\n",
    "df2=spark.createDataFrame([(1,\"A\"),(2,\"B\"),(3,\"C\")],[\"id\",\"value\"])\n",
    "\n",
    "broadcast_df=broadcast(df2)\n",
    "\n",
    "result=df1.join(broadcast(broadcast_df))\n",
    "\n",
    "result.show()"
   ]
  },
  {
   "cell_type": "code",
   "execution_count": null,
   "metadata": {},
   "outputs": [],
   "source": [
    "left_list = [{'id': 1, 'name': 'Alice'}, {'id': 2, 'name': 'Bob'}, {'id': 3, 'name': 'Charlie'}]\n",
    "right_list = [{'id': 2, 'age': 30}, {'id': 3, 'age': 25}, {'id': 4, 'age': 40}]\n",
    "\n",
    "result=[{**left,**next((right for right inright_list if right['id']==left['id']),{})} for left in left_list]"
   ]
  }
 ],
 "metadata": {
  "kernelspec": {
   "display_name": "Python 3",
   "language": "python",
   "name": "python3"
  },
  "language_info": {
   "codemirror_mode": {
    "name": "ipython",
    "version": 3
   },
   "file_extension": ".py",
   "mimetype": "text/x-python",
   "name": "python",
   "nbconvert_exporter": "python",
   "pygments_lexer": "ipython3",
   "version": "3.10.7"
  }
 },
 "nbformat": 4,
 "nbformat_minor": 2
}
