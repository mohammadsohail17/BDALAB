{
 "cells": [
  {
   "cell_type": "code",
   "execution_count": 1,
   "metadata": {},
   "outputs": [
    {
     "name": "stdout",
     "output_type": "stream",
     "text": [
      "+------------+-----------+-----------+\n",
      "|Sepal Length|Sepal Width|    Species|\n",
      "+------------+-----------+-----------+\n",
      "|         5.3|        3.7|     Setosa|\n",
      "|         5.1|        3.8|     Setosa|\n",
      "|         7.2|        3.0|  Virginica|\n",
      "|         5.4|        3.4|     Setosa|\n",
      "|         5.1|        3.3|     Setosa|\n",
      "|         5.4|        3.9|     Setosa|\n",
      "|         7.4|        2.8|  Virginica|\n",
      "|         6.1|        2.8|Verscicolor|\n",
      "|         7.3|        2.9|  Virginica|\n",
      "|         6.0|        2.7|Verscicolor|\n",
      "+------------+-----------+-----------+\n",
      "only showing top 10 rows\n",
      "\n"
     ]
    }
   ],
   "source": [
    "#DBSCAN\n",
    "import pyspark\n",
    "from pyspark.sql import SparkSession\n",
    "\n",
    "spark=SparkSession.builder.appName('testmodel').getOrCreate()\n",
    "\n",
    "df=spark.read.csv('./data.csv',inferSchema=True,header=True)\n",
    "df.show(10)"
   ]
  },
  {
   "cell_type": "code",
   "execution_count": 2,
   "metadata": {},
   "outputs": [
    {
     "name": "stdout",
     "output_type": "stream",
     "text": [
      "root\n",
      " |-- Sepal Length: double (nullable = true)\n",
      " |-- Sepal Width: double (nullable = true)\n",
      " |-- Species: string (nullable = true)\n",
      "\n"
     ]
    }
   ],
   "source": [
    "df.printSchema()"
   ]
  },
  {
   "cell_type": "code",
   "execution_count": 2,
   "metadata": {},
   "outputs": [
    {
     "name": "stdout",
     "output_type": "stream",
     "text": [
      "+---------+\n",
      "| features|\n",
      "+---------+\n",
      "|[5.3,3.7]|\n",
      "|[5.1,3.8]|\n",
      "|[7.2,3.0]|\n",
      "|[5.4,3.4]|\n",
      "|[5.1,3.3]|\n",
      "+---------+\n",
      "only showing top 5 rows\n",
      "\n"
     ]
    }
   ],
   "source": [
    "from pyspark.ml.linalg import Vectors\n",
    "from pyspark.ml.feature import VectorAssembler\n",
    "\n",
    "assembler=VectorAssembler(inputCols=['Sepal Length','Sepal Width'],outputCol='features')\n",
    "output=assembler.transform(df)\n",
    "output.select('features').show(5)"
   ]
  },
  {
   "cell_type": "code",
   "execution_count": 3,
   "metadata": {},
   "outputs": [
    {
     "name": "stdout",
     "output_type": "stream",
     "text": [
      "+-------+---------+\n",
      "|summary|  Species|\n",
      "+-------+---------+\n",
      "|  count|       10|\n",
      "|   mean|     NULL|\n",
      "| stddev|     NULL|\n",
      "|    min|   Setosa|\n",
      "|    max|Virginica|\n",
      "+-------+---------+\n",
      "\n"
     ]
    }
   ],
   "source": [
    "final_data=output.select('features','Species')\n",
    "train_data,test_data=final_data.randomSplit([0.7,0.3])\n",
    "train_data.describe().show()"
   ]
  },
  {
   "cell_type": "code",
   "execution_count": 4,
   "metadata": {},
   "outputs": [
    {
     "data": {
      "text/plain": [
       "array(DataFrame[features: vector], dtype=object)"
      ]
     },
     "execution_count": 4,
     "metadata": {},
     "output_type": "execute_result"
    }
   ],
   "source": [
    "import numpy as np\n",
    "np.array(final_data.select('features'))"
   ]
  },
  {
   "cell_type": "code",
   "execution_count": 5,
   "metadata": {},
   "outputs": [
    {
     "data": {
      "text/html": [
       "<div>\n",
       "<style scoped>\n",
       "    .dataframe tbody tr th:only-of-type {\n",
       "        vertical-align: middle;\n",
       "    }\n",
       "\n",
       "    .dataframe tbody tr th {\n",
       "        vertical-align: top;\n",
       "    }\n",
       "\n",
       "    .dataframe thead th {\n",
       "        text-align: right;\n",
       "    }\n",
       "</style>\n",
       "<table border=\"1\" class=\"dataframe\">\n",
       "  <thead>\n",
       "    <tr style=\"text-align: right;\">\n",
       "      <th></th>\n",
       "      <th>features</th>\n",
       "      <th>Species</th>\n",
       "    </tr>\n",
       "  </thead>\n",
       "  <tbody>\n",
       "    <tr>\n",
       "      <th>0</th>\n",
       "      <td>[5.3, 3.7]</td>\n",
       "      <td>Setosa</td>\n",
       "    </tr>\n",
       "    <tr>\n",
       "      <th>1</th>\n",
       "      <td>[5.1, 3.8]</td>\n",
       "      <td>Setosa</td>\n",
       "    </tr>\n",
       "    <tr>\n",
       "      <th>2</th>\n",
       "      <td>[7.2, 3.0]</td>\n",
       "      <td>Virginica</td>\n",
       "    </tr>\n",
       "    <tr>\n",
       "      <th>3</th>\n",
       "      <td>[5.4, 3.4]</td>\n",
       "      <td>Setosa</td>\n",
       "    </tr>\n",
       "    <tr>\n",
       "      <th>4</th>\n",
       "      <td>[5.1, 3.3]</td>\n",
       "      <td>Setosa</td>\n",
       "    </tr>\n",
       "  </tbody>\n",
       "</table>\n",
       "</div>"
      ],
      "text/plain": [
       "     features    Species\n",
       "0  [5.3, 3.7]     Setosa\n",
       "1  [5.1, 3.8]     Setosa\n",
       "2  [7.2, 3.0]  Virginica\n",
       "3  [5.4, 3.4]     Setosa\n",
       "4  [5.1, 3.3]     Setosa"
      ]
     },
     "execution_count": 5,
     "metadata": {},
     "output_type": "execute_result"
    }
   ],
   "source": [
    "pandas_df = final_data.toPandas() \n",
    "pandas_df.head()"
   ]
  },
  {
   "cell_type": "code",
   "execution_count": 7,
   "metadata": {},
   "outputs": [
    {
     "name": "stdout",
     "output_type": "stream",
     "text": [
      "[2 2 0 2 2 2 0 1 0 1 1 1 1 1 1]\n"
     ]
    }
   ],
   "source": [
    "from sklearn.cluster import DBSCAN,KMeans\n",
    "#dbscan = DBSCAN(eps=0.6, min_samples=3)\n",
    "#dbscan_labels = dbscan.fit_predict(pandas_df['features'].tolist())\n",
    "kmeans = KMeans(n_clusters=3, n_init=10, random_state=42)\n",
    "kmeans_labels=kmeans.fit_predict(pandas_df['features'].tolist())\n",
    "#print(dbscan_labels)\n",
    "print(kmeans_labels)"
   ]
  },
  {
   "cell_type": "code",
   "execution_count": 8,
   "metadata": {},
   "outputs": [
    {
     "data": {
      "text/plain": [
       "array([[5.3],\n",
       "       [5.1],\n",
       "       [7.2],\n",
       "       [5.4],\n",
       "       [5.1],\n",
       "       [5.4],\n",
       "       [7.4],\n",
       "       [6.1],\n",
       "       [7.3],\n",
       "       [6. ],\n",
       "       [5.8],\n",
       "       [6.3],\n",
       "       [5.1],\n",
       "       [6.3],\n",
       "       [5.5]])"
      ]
     },
     "execution_count": 8,
     "metadata": {},
     "output_type": "execute_result"
    }
   ],
   "source": [
    "X=output.select('Sepal Length').toPandas()\n",
    "Y=output.select('Sepal Width').toPandas()\n",
    "np.array(X)\n"
   ]
  },
  {
   "cell_type": "code",
   "execution_count": 10,
   "metadata": {},
   "outputs": [
    {
     "data": {
      "image/png": "[encoded data removed]",
      "text/plain": [
       "<Figure size 640x480 with 1 Axes>"
      ]
     },
     "metadata": {},
     "output_type": "display_data"
    }
   ],
   "source": [
    "import matplotlib.pyplot as plt\n",
    "\n",
    "plt.scatter(np.array(X),np.array(Y),c=kmeans_labels)\n",
    "plt.show()"
   ]
  },
  {
   "cell_type": "code",
   "execution_count": null,
   "metadata": {},
   "outputs": [],
   "source": [
    "spark.stop()"
   ]
  }
 ],
 "metadata": {
  "kernelspec": {
   "display_name": "Python 3",
   "language": "python",
   "name": "python3"
  },
  "language_info": {
   "codemirror_mode": {
    "name": "ipython",
    "version": 3
   },
   "file_extension": ".py",
   "mimetype": "text/x-python",
   "name": "python",
   "nbconvert_exporter": "python",
   "pygments_lexer": "ipython3",
   "version": "3.10.7"
  }
 },
 "nbformat": 4,
 "nbformat_minor": 2
}
